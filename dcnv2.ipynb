{
  "nbformat": 4,
  "nbformat_minor": 0,
  "metadata": {
    "colab": {
      "name": "dcnv2.ipynb",
      "provenance": [],
      "mount_file_id": "19sj3jGhhqOXj9ExcvMUYzz3QTYLSy68g",
      "authorship_tag": "ABX9TyP/0V+CCJYlSuMW9mNEDrGM",
      "include_colab_link": true
    },
    "kernelspec": {
      "name": "python3",
      "display_name": "Python 3"
    },
    "language_info": {
      "name": "python"
    },
    "accelerator": "GPU",
    "gpuClass": "standard"
  },
  "cells": [
    {
      "cell_type": "markdown",
      "metadata": {
        "id": "view-in-github",
        "colab_type": "text"
      },
      "source": [
        "<a href=\"https://colab.research.google.com/github/NazminJuli/red-circle-detection/blob/master/dcnv2.ipynb\" target=\"_parent\"><img src=\"https://colab.research.google.com/assets/colab-badge.svg\" alt=\"Open In Colab\"/></a>"
      ]
    },
    {
      "cell_type": "code",
      "execution_count": 1,
      "metadata": {
        "id": "ib95ARPNP9UR"
      },
      "outputs": [],
      "source": [
        "!sudo ln -s /usr/bin/gcc-4.4 /usr/local/cuda/bin/gcc"
      ]
    },
    {
      "cell_type": "code",
      "source": [
        "!python -V"
      ],
      "metadata": {
        "colab": {
          "base_uri": "https://localhost:8080/"
        },
        "id": "Nh42XWxXQYSf",
        "outputId": "b26ea093-4bbb-48fa-f152-accb6daa6d60"
      },
      "execution_count": 2,
      "outputs": [
        {
          "output_type": "stream",
          "name": "stdout",
          "text": [
            "Python 3.7.13\n"
          ]
        }
      ]
    },
    {
      "cell_type": "code",
      "source": [
        "!bash ./make.sh"
      ],
      "metadata": {
        "colab": {
          "base_uri": "https://localhost:8080/"
        },
        "id": "azymx6UOWCzB",
        "outputId": "4a9c01c8-6418-4d91-d224-c5944ee1831a"
      },
      "execution_count": 22,
      "outputs": [
        {
          "output_type": "stream",
          "name": "stdout",
          "text": [
            "running build\n",
            "running build_ext\n",
            "running develop\n",
            "running egg_info\n",
            "writing DCNv2.egg-info/PKG-INFO\n",
            "writing dependency_links to DCNv2.egg-info/dependency_links.txt\n",
            "writing top-level names to DCNv2.egg-info/top_level.txt\n",
            "adding license file 'LICENSE'\n",
            "writing manifest file 'DCNv2.egg-info/SOURCES.txt'\n",
            "running build_ext\n",
            "copying build/lib.linux-x86_64-3.7/_ext.cpython-37m-x86_64-linux-gnu.so -> \n",
            "Creating /usr/local/lib/python3.7/dist-packages/DCNv2.egg-link (link to .)\n",
            "DCNv2 0.1 is already the active version in easy-install.pth\n",
            "\n",
            "Installed /content/DCNv2\n",
            "Processing dependencies for DCNv2==0.1\n",
            "Finished processing dependencies for DCNv2==0.1\n"
          ]
        }
      ]
    }
  ]
}